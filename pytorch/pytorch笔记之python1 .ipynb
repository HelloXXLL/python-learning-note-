{
 "cells": [
  {
   "cell_type": "markdown",
   "metadata": {},
   "source": [
    "数字"
   ]
  },
  {
   "cell_type": "code",
   "execution_count": 2,
   "metadata": {},
   "outputs": [
    {
     "name": "stdout",
     "output_type": "stream",
     "text": [
      "10\n",
      "10.0\n"
     ]
    }
   ],
   "source": [
    "int_num=10\n",
    "float_num=10.00\n",
    "print(int_num)\n",
    "print(float_num)"
   ]
  },
  {
   "cell_type": "code",
   "execution_count": 4,
   "metadata": {},
   "outputs": [
    {
     "name": "stdout",
     "output_type": "stream",
     "text": [
      "10.0\n",
      "10.000000\n",
      "10.00\n",
      "10.0000\n"
     ]
    }
   ],
   "source": [
    "float_num=10.000\n",
    "print(float_num)\n",
    "print(\"%f\"%float_num)\n",
    "print(\"%.2f\"%float_num)\n",
    "print(\"%.4f\"%float_num)"
   ]
  },
  {
   "cell_type": "markdown",
   "metadata": {},
   "source": [
    "字符串"
   ]
  },
  {
   "cell_type": "code",
   "execution_count": 5,
   "metadata": {},
   "outputs": [
    {
     "name": "stdout",
     "output_type": "stream",
     "text": [
      "hello_world\n",
      "hello__world2\n"
     ]
    }
   ],
   "source": [
    "string1=\"hello_world\"\n",
    "string2=\"hello__world2\"\n",
    "print(string1)\n",
    "print(string2)"
   ]
  },
  {
   "cell_type": "code",
   "execution_count": 7,
   "metadata": {},
   "outputs": [
    {
     "name": "stdout",
     "output_type": "stream",
     "text": [
      "myhelloworld myhelloworld myhel d world oworld myhel\n"
     ]
    }
   ],
   "source": [
    "string =\"myhelloworld\"\n",
    "string0=string[0]\n",
    "string1=string[0:12]\n",
    "s3=string[0:5]\n",
    "s4=string[-1]\n",
    "s5=string[-5:]\n",
    "s6=string[6:]\n",
    "s7=string[:5]\n",
    "print(string,string1,s3,s4,s5,s6,s7)"
   ]
  },
  {
   "cell_type": "markdown",
   "metadata": {},
   "source": [
    "列表"
   ]
  },
  {
   "cell_type": "code",
   "execution_count": 9,
   "metadata": {},
   "outputs": [
    {
     "name": "stdout",
     "output_type": "stream",
     "text": [
      "['hello_world', 100, 10.2]\n",
      "hello_world\n",
      "[100, 10.2]\n",
      "10.2\n",
      "['hello_world', 100, 10.2, 12, 3, 'HI']\n"
     ]
    }
   ],
   "source": [
    "list1=[\"hello_world\",100,10.2]\n",
    "list2=[12,3,'HI']\n",
    "print(list1)\n",
    "print(list1[0])\n",
    "print(list1[1:])\n",
    "print(list1[-1])\n",
    "print(list1+list2)"
   ]
  },
  {
   "cell_type": "markdown",
   "metadata": {},
   "source": [
    "元组"
   ]
  },
  {
   "cell_type": "code",
   "execution_count": 15,
   "metadata": {},
   "outputs": [
    {
     "name": "stdout",
     "output_type": "stream",
     "text": [
      "('hello', 12, 10.9)\n",
      "hello\n",
      "(12, 10.9)\n",
      "10.9\n",
      "('hello', 12, 10.9, 2, -1, 321)\n"
     ]
    }
   ],
   "source": [
    "tuple1=(\"hello\",12,10.9)\n",
    "tuple2=(2,-1,321)\n",
    "print(tuple1)\n",
    "print(tuple1[0])\n",
    "print(tuple1[1:])\n",
    "print(tuple1[-1])\n",
    "print(tuple1+tuple2)"
   ]
  },
  {
   "cell_type": "markdown",
   "metadata": {},
   "source": [
    "字典"
   ]
  },
  {
   "cell_type": "code",
   "execution_count": 16,
   "metadata": {},
   "outputs": [
    {
     "name": "stdout",
     "output_type": "stream",
     "text": [
      "This is one\n",
      "TWO\n",
      "{'name': 'tang', 'num': '7272', 'city': 'GL'}\n",
      "dict_keys(['name', 'num', 'city'])\n",
      "dict_values(['tang', '7272', 'GL'])\n"
     ]
    }
   ],
   "source": [
    "dict_1={}\n",
    "dict_1[\"one\"]=\"This is one\"\n",
    "dict_1[2]=\"TWO\"\n",
    "dict_info={\"name\":\"tang\",\"num\":\"7272\",\"city\":\"GL\"}\n",
    "print(dict_1[\"one\"])\n",
    "print(dict_1[2])\n",
    "print(dict_info)\n",
    "print(dict_info.keys())\n",
    "print(dict_info.values())"
   ]
  },
  {
   "cell_type": "markdown",
   "metadata": {},
   "source": [
    "运算"
   ]
  },
  {
   "cell_type": "code",
   "execution_count": 19,
   "metadata": {},
   "outputs": [
    {
     "name": "stdout",
     "output_type": "stream",
     "text": [
      "7\n",
      "3\n",
      "2.5\n",
      "10\n",
      "2\n",
      "1\n",
      "25\n"
     ]
    }
   ],
   "source": [
    "a=5\n",
    "b=2\n",
    "print(a+b)\n",
    "print(a-b)\n",
    "print(a/b)\n",
    "print(a*b)\n",
    "print(a//b)#取整运算\n",
    "print(a%b)\n",
    "print(a**b)"
   ]
  },
  {
   "cell_type": "markdown",
   "metadata": {},
   "source": [
    "比较运算符"
   ]
  },
  {
   "cell_type": "code",
   "execution_count": 20,
   "metadata": {},
   "outputs": [
    {
     "name": "stdout",
     "output_type": "stream",
     "text": [
      "False\n",
      "True\n",
      "True\n",
      "True\n",
      "False\n",
      "False\n"
     ]
    }
   ],
   "source": [
    "a=5\n",
    "b=2\n",
    "print(a==b)\n",
    "print(a!=b)\n",
    "print(a>b)\n",
    "print(a>=b)\n",
    "print(a<b)\n",
    "print(a<=b)"
   ]
  },
  {
   "cell_type": "markdown",
   "metadata": {},
   "source": [
    "布尔运算符\n"
   ]
  },
  {
   "cell_type": "code",
   "execution_count": 21,
   "metadata": {},
   "outputs": [
    {
     "name": "stdout",
     "output_type": "stream",
     "text": [
      "False\n",
      "True\n",
      "False\n"
     ]
    }
   ],
   "source": [
    "a=True\n",
    "b=False\n",
    "print(a and b)\n",
    "print(a or b)\n",
    "print(not a)"
   ]
  },
  {
   "cell_type": "code",
   "execution_count": 23,
   "metadata": {},
   "outputs": [
    {
     "name": "stdout",
     "output_type": "stream",
     "text": [
      "True\n",
      "False\n"
     ]
    }
   ],
   "source": [
    "a=3\n",
    "b=1\n",
    "c=3\n",
    "print(a>b and b<c)\n",
    "print(not a>b)"
   ]
  },
  {
   "cell_type": "markdown",
   "metadata": {},
   "source": [
    "成员运算符"
   ]
  },
  {
   "cell_type": "code",
   "execution_count": 24,
   "metadata": {},
   "outputs": [
    {
     "name": "stdout",
     "output_type": "stream",
     "text": [
      "True\n",
      "False\n"
     ]
    }
   ],
   "source": [
    "list1=[\"I\",\"am\",\"smart\"]\n",
    "a=\"I\"\n",
    "print(a in list1)\n",
    "b=\"YOU\"\n",
    "print(b in list1)\n",
    "\n"
   ]
  },
  {
   "cell_type": "markdown",
   "metadata": {},
   "source": [
    "身份运算符"
   ]
  },
  {
   "cell_type": "code",
   "execution_count": 25,
   "metadata": {},
   "outputs": [
    {
     "name": "stdout",
     "output_type": "stream",
     "text": [
      "140715352894960\n",
      "140715352894960\n",
      "a is b True\n",
      "a is not b False\n",
      "a==b True\n"
     ]
    }
   ],
   "source": [
    "a=100\n",
    "b=100\n",
    "print(id(a)) #a内存地址\n",
    "print(id(b))\n",
    "print(\"a is b\",a is b)\n",
    "print(\"a is not b\",a is not b)\n",
    "print(\"a==b\",a==b)\n",
    "#is 比较变量是否 属于同一对象 == 比较大小\n",
    "#结果不一定和py解释器有关"
   ]
  },
  {
   "cell_type": "markdown",
   "metadata": {},
   "source": [
    "条件判断语句"
   ]
  },
  {
   "cell_type": "code",
   "execution_count": 27,
   "metadata": {},
   "outputs": [
    {
     "name": "stdout",
     "output_type": "stream",
     "text": [
      "NUM==10\n"
     ]
    }
   ],
   "source": [
    "num=10\n",
    "if num==10:\n",
    "    print(\"NUM==10\")\n",
    "elif num>10:\n",
    "    print(\"NUM>10\")\n",
    "else :\n",
    "    print(\"hh\")"
   ]
  },
  {
   "cell_type": "code",
   "execution_count": 28,
   "metadata": {},
   "outputs": [
    {
     "name": "stdout",
     "output_type": "stream",
     "text": [
      "hh\n"
     ]
    }
   ],
   "source": [
    "num=8\n",
    "if num==10:\n",
    "    print(\"NUM==10\")\n",
    "elif num>10:\n",
    "    print(\"NUM>10\")\n",
    "else :\n",
    "    print(\"hh\")\n"
   ]
  },
  {
   "cell_type": "markdown",
   "metadata": {},
   "source": [
    "循环语句"
   ]
  },
  {
   "cell_type": "code",
   "execution_count": 29,
   "metadata": {},
   "outputs": [
    {
     "name": "stdout",
     "output_type": "stream",
     "text": [
      "0\n",
      "1\n",
      "2\n",
      "3\n",
      "4\n",
      "5\n",
      "6\n",
      "7\n",
      "8\n",
      "9\n"
     ]
    }
   ],
   "source": [
    "num=0\n",
    "while(num<10):\n",
    "    print(num)\n",
    "    num+=1"
   ]
  },
  {
   "cell_type": "code",
   "execution_count": 30,
   "metadata": {},
   "outputs": [
    {
     "name": "stdout",
     "output_type": "stream",
     "text": [
      "0\n",
      "1\n",
      "2\n",
      "3\n",
      "4\n",
      "5\n",
      "6\n",
      "7\n",
      "8\n",
      "9\n"
     ]
    }
   ],
   "source": [
    "num=10\n",
    "for i in range(10):\n",
    "    if i<num:\n",
    "        print(i)\n",
    "\n"
   ]
  },
  {
   "cell_type": "code",
   "execution_count": 31,
   "metadata": {},
   "outputs": [
    {
     "name": "stdout",
     "output_type": "stream",
     "text": [
      "0\n",
      "1\n",
      "2\n",
      "3\n",
      "4\n",
      "5\n"
     ]
    }
   ],
   "source": [
    "num=10\n",
    "for i in range(10):\n",
    "    if i<num:\n",
    "        print(i)\n",
    "    if i*2==num:\n",
    "        break"
   ]
  },
  {
   "cell_type": "code",
   "execution_count": 33,
   "metadata": {},
   "outputs": [
    {
     "name": "stdout",
     "output_type": "stream",
     "text": [
      "0\n",
      "1\n",
      "2\n",
      "3\n",
      "4\n",
      "6\n",
      "7\n",
      "8\n",
      "9\n"
     ]
    }
   ],
   "source": [
    "\n",
    "num=10\n",
    "for i in range(10):\n",
    "    if i==5 :\n",
    "        continue\n",
    "    if i<num:\n",
    "        print(i)"
   ]
  },
  {
   "cell_type": "code",
   "execution_count": 35,
   "metadata": {},
   "outputs": [
    {
     "name": "stdout",
     "output_type": "stream",
     "text": [
      "0\n",
      "1\n",
      "2\n",
      "3\n",
      "4\n",
      "5\n",
      "6\n",
      "7\n",
      "8\n",
      "9\n"
     ]
    }
   ],
   "source": [
    "num=10\n",
    "for i in range(10):\n",
    "    if i==5 :\n",
    "        pass#不执行任何处理操作\n",
    "    if i<num:\n",
    "        print(i)"
   ]
  },
  {
   "cell_type": "markdown",
   "metadata": {},
   "source": [
    "函数"
   ]
  },
  {
   "cell_type": "code",
   "execution_count": 36,
   "metadata": {},
   "outputs": [
    {
     "name": "stdout",
     "output_type": "stream",
     "text": [
      "HELLO WORLD\n",
      "None\n"
     ]
    }
   ],
   "source": [
    "def func():\n",
    "    print(\"HELLO WORLD\")\n",
    "    return \n",
    "a=func()\n",
    "print(a)"
   ]
  },
  {
   "cell_type": "code",
   "execution_count": 38,
   "metadata": {},
   "outputs": [
    {
     "name": "stdout",
     "output_type": "stream",
     "text": [
      "What you say is: panda\n",
      "What you say is: bumu\n",
      "What you say is: bumu\n"
     ]
    }
   ],
   "source": [
    "def func(string =\"panda\"):\n",
    "    print(\"What you say is:\",string )\n",
    "    return \n",
    "func()\n",
    "func(string=\"bumu\")\n",
    "func(\"bumu\")"
   ]
  },
  {
   "cell_type": "markdown",
   "metadata": {},
   "source": [
    "函数的参数 必备参数 关键字参数 默认参数 不定长参数"
   ]
  },
  {
   "cell_type": "code",
   "execution_count": 39,
   "metadata": {},
   "outputs": [
    {
     "name": "stdout",
     "output_type": "stream",
     "text": [
      "what  you want is: ??\n",
      "what you want is: panda\n",
      "just print hello world\n",
      "1\n",
      "23\n",
      "12\n",
      "31\n"
     ]
    }
   ],
   "source": [
    "def func1(string):\n",
    "    print(\"what  you want is:\",string )\n",
    "    return \n",
    "def func2(string=\"panda\"):\n",
    "    print(\"what you want is:\",string )\n",
    "    return \n",
    "def func3(string2=\"world\",string1=\"hello\"):\n",
    "    print(\"just print\",string1,string2)\n",
    "    return \n",
    "def func4(arg1,*arg2):\n",
    "    print(arg1)\n",
    "    for i in arg2:\n",
    "        print(i)\n",
    "    return \n",
    "func1(\"??\")\n",
    "func2()\n",
    "func3()\n",
    "func4(1,23,12,31)\n",
    "\n"
   ]
  },
  {
   "cell_type": "markdown",
   "metadata": {},
   "source": [
    "python中的类 创建\n",
    "\n",
    "\n",
    "- 类变量\n",
    "-  _init_()\n",
    "-  self 类实例\n"
   ]
  },
  {
   "cell_type": "code",
   "execution_count": 41,
   "metadata": {},
   "outputs": [
    {
     "name": "stdout",
     "output_type": "stream",
     "text": [
      "libai 10\n",
      "wulei 3\n",
      "2\n"
     ]
    }
   ],
   "source": [
    "class stu:\n",
    "    stu_num=0\n",
    "    def __init__(self,name,age):\n",
    "        self.name=name\n",
    "        self.age=age\n",
    "        stu.stu_num+=1\n",
    "    \n",
    "    def dis_stu(self):\n",
    "        print(self.name,self.age)\n",
    "    \n",
    "    stu1=stu(\"libai\",\"10\")\n",
    "    stu2=stu(\"wulei\",\"3\")\n",
    "    stu1.dis_stu()\n",
    "    stu2.dis_stu()\n",
    "    print(stu.stu_num)"
   ]
  },
  {
   "cell_type": "markdown",
   "metadata": {},
   "source": [
    "类的继承"
   ]
  },
  {
   "cell_type": "code",
   "execution_count": 44,
   "metadata": {},
   "outputs": [
    {
     "name": "stdout",
     "output_type": "stream",
     "text": [
      "school HD\n",
      "name is WU\n",
      "age: 3\n",
      "age: 22\n"
     ]
    }
   ],
   "source": [
    "class peo:\n",
    "    def __init__(self,name,age):\n",
    "        self.name=name\n",
    "        self.age=age\n",
    "    def dis_name(self):\n",
    "        print(\"name is\",self.name)\n",
    "    def dis_age(self):\n",
    "        print(\"age:\",self.age)\n",
    "    def dis(self):\n",
    "        print(\"age name\",self.age,self.name)\n",
    "    def set_age(self,age):\n",
    "        self.age=age\n",
    "class stu(peo):\n",
    "    def __init__(self,name,age,school):\n",
    "        self.name=name\n",
    "        self.age=age\n",
    "        self.school=school\n",
    "    def dis_school(self):\n",
    "        print(\"school\",self.school)\n",
    "\n",
    "stu=stu(\"WU\",\"3\",\"HD\")\n",
    "stu.dis_school()#调用子类\n",
    "stu.dis_name()#调用父类\n",
    "stu.dis_age()\n",
    "stu.set_age(22)\n",
    "stu.dis_age()"
   ]
  },
  {
   "cell_type": "markdown",
   "metadata": {},
   "source": [
    "类重写"
   ]
  },
  {
   "cell_type": "code",
   "execution_count": 48,
   "metadata": {},
   "outputs": [
    {
     "name": "stdout",
     "output_type": "stream",
     "text": [
      "kid!!\n"
     ]
    }
   ],
   "source": [
    "class  par:#定义父类\n",
    "    def __init__(self):\n",
    "        pass\n",
    "    def print_info(self):\n",
    "        print(\"This is parent\")\n",
    "class child (par):#定义子类\n",
    "    def __init__(self):\n",
    "        pass\n",
    "    def print_info(self):#重写\n",
    "        print(\"kid!!\")\n",
    "c1=child()\n",
    "c1.print_info()"
   ]
  },
  {
   "cell_type": "markdown",
   "metadata": {},
   "source": [
    "Numpy 科学计算和数据分析基础包"
   ]
  },
  {
   "cell_type": "markdown",
   "metadata": {},
   "source": [
    "创建多维数组"
   ]
  },
  {
   "cell_type": "code",
   "execution_count": 6,
   "metadata": {},
   "outputs": [
    {
     "data": {
      "text/plain": [
       "array([ 1,  2, 23,  3])"
      ]
     },
     "execution_count": 6,
     "metadata": {},
     "output_type": "execute_result"
    }
   ],
   "source": [
    "import numpy as np\n",
    "np.array([1,2,23,3])\n"
   ]
  },
  {
   "cell_type": "code",
   "execution_count": 7,
   "metadata": {},
   "outputs": [
    {
     "data": {
      "text/plain": [
       "array([[1, 2, 2],\n",
       "       [2, 3, 4]])"
      ]
     },
     "execution_count": 7,
     "metadata": {},
     "output_type": "execute_result"
    }
   ],
   "source": [
    "np.array([[1,2,2],[2,3,4]])"
   ]
  },
  {
   "cell_type": "code",
   "execution_count": 8,
   "metadata": {},
   "outputs": [
    {
     "data": {
      "text/plain": [
       "array([[1., 1., 1.],\n",
       "       [1., 1., 1.]])"
      ]
     },
     "execution_count": 8,
     "metadata": {},
     "output_type": "execute_result"
    }
   ],
   "source": [
    "np.ones([2,3])#创建全1数组"
   ]
  },
  {
   "cell_type": "code",
   "execution_count": 11,
   "metadata": {},
   "outputs": [
    {
     "name": "stdout",
     "output_type": "stream",
     "text": [
      "[[1. 1. 1.]\n",
      " [1. 1. 2.]]\n"
     ]
    }
   ],
   "source": [
    "a=np.ones([2,3])\n",
    "a[1,2]=2 #注意下标是从0开始的\n",
    "print(a)"
   ]
  },
  {
   "cell_type": "code",
   "execution_count": 12,
   "metadata": {},
   "outputs": [
    {
     "data": {
      "text/plain": [
       "array([[0., 0., 0.],\n",
       "       [0., 0., 0.]])"
      ]
     },
     "execution_count": 12,
     "metadata": {},
     "output_type": "execute_result"
    }
   ],
   "source": [
    "np.zeros([2,3])#创建全0数组"
   ]
  },
  {
   "cell_type": "code",
   "execution_count": 19,
   "metadata": {},
   "outputs": [
    {
     "data": {
      "text/plain": [
       "array([[0.00000000e+000, 0.00000000e+000, 0.00000000e+000],\n",
       "       [0.00000000e+000, 0.00000000e+000, 6.18570189e-321],\n",
       "       [1.78021527e-306, 1.40688321e-311, 0.00000000e+000]])"
      ]
     },
     "execution_count": 19,
     "metadata": {},
     "output_type": "execute_result"
    }
   ],
   "source": [
    "np.empty([3,3])#创建随机初始化的矩阵"
   ]
  },
  {
   "cell_type": "code",
   "execution_count": 20,
   "metadata": {},
   "outputs": [
    {
     "data": {
      "text/plain": [
       "2"
      ]
     },
     "execution_count": 20,
     "metadata": {},
     "output_type": "execute_result"
    }
   ],
   "source": [
    "a=np.ones([2,3])\n",
    "a.ndim#统计数组的维度的数量"
   ]
  },
  {
   "cell_type": "code",
   "execution_count": 23,
   "metadata": {},
   "outputs": [
    {
     "data": {
      "text/plain": [
       "3"
      ]
     },
     "execution_count": 23,
     "metadata": {},
     "output_type": "execute_result"
    }
   ],
   "source": [
    "a=np.ones([3,2,4])\n",
    "a.ndim"
   ]
  },
  {
   "cell_type": "code",
   "execution_count": 24,
   "metadata": {},
   "outputs": [
    {
     "name": "stdout",
     "output_type": "stream",
     "text": [
      "[[1. 1. 1.]\n",
      " [1. 1. 1.]]\n",
      "(2, 3)\n"
     ]
    }
   ],
   "source": [
    "a=np.ones([2,3])\n",
    "print(a)\n",
    "print(a.shape)"
   ]
  },
  {
   "cell_type": "code",
   "execution_count": 25,
   "metadata": {},
   "outputs": [
    {
     "name": "stdout",
     "output_type": "stream",
     "text": [
      "[[ 2  3]\n",
      " [32 33]]\n",
      "(2, 2)\n"
     ]
    }
   ],
   "source": [
    "a=np.matrix([[2,3],[32,33]])\n",
    "print(a)\n",
    "print(a.shape)"
   ]
  },
  {
   "cell_type": "code",
   "execution_count": 26,
   "metadata": {},
   "outputs": [
    {
     "name": "stdout",
     "output_type": "stream",
     "text": [
      "6\n"
     ]
    }
   ],
   "source": [
    "a=np.ones([2,3])\n",
    "print(a.size)"
   ]
  },
  {
   "cell_type": "code",
   "execution_count": 30,
   "metadata": {},
   "outputs": [
    {
     "data": {
      "text/plain": [
       "dtype('float64')"
      ]
     },
     "execution_count": 30,
     "metadata": {},
     "output_type": "execute_result"
    }
   ],
   "source": [
    "a=np.ones([2,32])\n",
    "a.dtype"
   ]
  },
  {
   "cell_type": "code",
   "execution_count": 32,
   "metadata": {},
   "outputs": [
    {
     "data": {
      "text/plain": [
       "dtype('int32')"
      ]
     },
     "execution_count": 32,
     "metadata": {},
     "output_type": "execute_result"
    }
   ],
   "source": [
    "s=np.ones([2,3],dtype=np.int32)#重新改写现有元素的类型 \n",
    "s.dtype"
   ]
  },
  {
   "cell_type": "code",
   "execution_count": 33,
   "metadata": {},
   "outputs": [
    {
     "data": {
      "text/plain": [
       "4"
      ]
     },
     "execution_count": 33,
     "metadata": {},
     "output_type": "execute_result"
    }
   ],
   "source": [
    "s.itemsize#返回每个元素字节的 大小"
   ]
  },
  {
   "cell_type": "code",
   "execution_count": 35,
   "metadata": {},
   "outputs": [
    {
     "name": "stdout",
     "output_type": "stream",
     "text": [
      "[[[1. 1. 1.]\n",
      "  [1. 1. 1.]\n",
      "  [1. 1. 1.]\n",
      "  [1. 1. 1.]\n",
      "  [1. 1. 1.]]\n",
      "\n",
      " [[1. 1. 1.]\n",
      "  [1. 1. 1.]\n",
      "  [1. 1. 1.]\n",
      "  [1. 1. 1.]\n",
      "  [1. 1. 1.]]]\n"
     ]
    }
   ],
   "source": [
    "a=np.ones([2,5,3])\n",
    "print(a)"
   ]
  },
  {
   "cell_type": "code",
   "execution_count": 37,
   "metadata": {},
   "outputs": [
    {
     "name": "stdout",
     "output_type": "stream",
     "text": [
      "[   0    1    2 ... 1997 1998 1999]\n"
     ]
    }
   ],
   "source": [
    "a=np.arange(2000)\n",
    "print(a)"
   ]
  },
  {
   "cell_type": "markdown",
   "metadata": {},
   "source": [
    "多维数组的基本操作（算数运算，索引，切片，迭代"
   ]
  },
  {
   "cell_type": "code",
   "execution_count": 38,
   "metadata": {},
   "outputs": [
    {
     "name": "stdout",
     "output_type": "stream",
     "text": [
      "[ -1  -1 -52]\n",
      "[ 3  5 58]\n",
      "[  2   6 165]\n",
      "[0.5        0.66666667 0.05454545]\n"
     ]
    }
   ],
   "source": [
    "a=np.array([1,2,3])\n",
    "b=np.array([2,3,55])\n",
    "print(a-b)\n",
    "print(a+b)\n",
    "print(a*b)#这是数组运算不是矩阵运算 切记 ~~~\n",
    "print(a/b)"
   ]
  },
  {
   "cell_type": "code",
   "execution_count": 39,
   "metadata": {},
   "outputs": [
    {
     "name": "stdout",
     "output_type": "stream",
     "text": [
      "[  2   6 165]\n",
      "a*b= 173\n",
      "173\n"
     ]
    }
   ],
   "source": [
    "#那么如何用数组实现矩阵运算\n",
    "print(a*b)\n",
    "c=a.dot(b)\n",
    "print(\"a*b=\",c)\n",
    "print(np.dot(a,b))"
   ]
  },
  {
   "cell_type": "code",
   "execution_count": 40,
   "metadata": {},
   "outputs": [
    {
     "name": "stdout",
     "output_type": "stream",
     "text": [
      "[24  6 88]\n",
      "[ 6.   1.5 22. ]\n",
      "[14  5 46]\n",
      "[10  1 42]\n"
     ]
    }
   ],
   "source": [
    "a=np.array([12,3,44])\n",
    "print(a*2)\n",
    "print(a/2)\n",
    "print(a+2)\n",
    "print(a-2)"
   ]
  },
  {
   "cell_type": "markdown",
   "metadata": {},
   "source": [
    "数组自身的运算"
   ]
  },
  {
   "cell_type": "code",
   "execution_count": 41,
   "metadata": {},
   "outputs": [
    {
     "name": "stdout",
     "output_type": "stream",
     "text": [
      "3\n",
      "44\n",
      "59\n"
     ]
    }
   ],
   "source": [
    "#min max sum \n",
    "print(a.min())\n",
    "print(a.max())\n",
    "print(a.sum())"
   ]
  },
  {
   "cell_type": "code",
   "execution_count": 43,
   "metadata": {},
   "outputs": [
    {
     "name": "stdout",
     "output_type": "stream",
     "text": [
      "1\n",
      "[1 2 1]\n",
      "[1 1]\n",
      "3\n",
      "[3 2 3]\n",
      "[3 3]\n",
      "12\n",
      "[4 4 4]\n",
      "[6 6]\n"
     ]
    }
   ],
   "source": [
    "a=np.array([[1,2,3],[3,2,1]])\n",
    "print(a.min())\n",
    "print(a.min(axis=0))#对应三列\n",
    "print(a.min(axis=1))#对应2行\n",
    "print(a.max())\n",
    "print(a.max(axis=0))\n",
    "print(a.max(axis=1))\n",
    "print(a.sum())\n",
    "print(a.sum(axis=0))\n",
    "print(a.sum(axis=1))"
   ]
  },
  {
   "cell_type": "code",
   "execution_count": 44,
   "metadata": {},
   "outputs": [
    {
     "name": "stdout",
     "output_type": "stream",
     "text": [
      "[[ 2.71828183  7.3890561  20.08553692]]\n",
      "[[1.         1.41421356 1.73205081]]\n",
      "[[1 4 9]]\n"
     ]
    }
   ],
   "source": [
    "a=np.array([[1,2,3]])\n",
    "print(np.exp(a))#指数\n",
    "print(np.sqrt(a))#平方根\n",
    "print(np.square(a))#平方运算"
   ]
  },
  {
   "cell_type": "markdown",
   "metadata": {},
   "source": [
    "随机数组\n",
    "- 随机因子确定后，无论我们运行多少次随机程序，最后生成的数字都一样，相当于把随机过程变成一个伪随机的机制\n",
    "- rand [0,1)\n",
    "- randn平均值为0 方差为1的正太分布随机样本\n",
    "- randint 类型为整数的随机样本数\n",
    "- binomial 生成维度指定且二项分布的随机样本数\n",
    "- beta 维度指定且符合bata分布的随机样本\n",
    "-normal 维度指定且符合高斯正太分布的随机样本"
   ]
  },
  {
   "cell_type": "code",
   "execution_count": 46,
   "metadata": {},
   "outputs": [
    {
     "name": "stdout",
     "output_type": "stream",
     "text": [
      "[0 1 2 3 4 5 6 7 8 9]\n",
      "[0 1 2 3 4]\n",
      "0\n",
      "1\n",
      "2\n",
      "3\n",
      "4\n",
      "5\n",
      "6\n",
      "7\n",
      "8\n",
      "9\n"
     ]
    }
   ],
   "source": [
    "a=np.arange(10)\n",
    "print(a)\n",
    "print(a[:5])\n",
    "for i in a:\n",
    "    print(i)#迭代"
   ]
  },
  {
   "cell_type": "code",
   "execution_count": 48,
   "metadata": {},
   "outputs": [
    {
     "name": "stdout",
     "output_type": "stream",
     "text": [
      "[[1 2 3]\n",
      " [4 5 6]\n",
      " [7 8 9]]\n",
      "----------\n",
      "[4 5 6]\n",
      "----------\n",
      "[[2 3]\n",
      " [5 6]]\n"
     ]
    }
   ],
   "source": [
    "#索引切片\n",
    "a=np.array([[1,2,3],[4,5,6],[7,8,9]])#qwq每次array的数组都忘记加上一个大括号 \n",
    "print(a)\n",
    "print(\"-\"*10)\n",
    "print(a[1])#输出指定维度的数据\n",
    "print(\"-\"*10)\n",
    "print(a[0:2,1:3])"
   ]
  },
  {
   "cell_type": "code",
   "execution_count": 49,
   "metadata": {},
   "outputs": [
    {
     "name": "stdout",
     "output_type": "stream",
     "text": [
      "[1 2 3]\n",
      "[4 5 6]\n",
      "[7 8 9]\n",
      "----------\n",
      "1\n",
      "2\n",
      "3\n",
      "4\n",
      "5\n",
      "6\n",
      "7\n",
      "8\n",
      "9\n"
     ]
    }
   ],
   "source": [
    "a=np.array([[1,2,3],[4,5,6],[7,8,9]])\n",
    "for i in a:\n",
    "    print(i)\n",
    "    \n",
    "print(\"-\"*10)\n",
    "for i in a:\n",
    "    for j  in i:\n",
    "        print(j)"
   ]
  },
  {
   "cell_type": "code",
   "execution_count": 51,
   "metadata": {},
   "outputs": [
    {
     "name": "stdout",
     "output_type": "stream",
     "text": [
      "1\n",
      "2\n",
      "3\n",
      "4\n",
      "5\n",
      "6\n",
      "7\n",
      "8\n",
      "9\n"
     ]
    }
   ],
   "source": [
    "#也可以选择扁平化处理\n",
    "for i in a.flat:\n",
    "    print(i)"
   ]
  },
  {
   "cell_type": "code",
   "execution_count": null,
   "metadata": {},
   "outputs": [],
   "source": []
  },
  {
   "cell_type": "code",
   "execution_count": null,
   "metadata": {},
   "outputs": [],
   "source": []
  },
  {
   "cell_type": "code",
   "execution_count": null,
   "metadata": {},
   "outputs": [],
   "source": []
  },
  {
   "cell_type": "code",
   "execution_count": null,
   "metadata": {},
   "outputs": [],
   "source": []
  }
 ],
 "metadata": {
  "kernelspec": {
   "display_name": "Python 3",
   "language": "python",
   "name": "python3"
  },
  "language_info": {
   "codemirror_mode": {
    "name": "ipython",
    "version": 3
   },
   "file_extension": ".py",
   "mimetype": "text/x-python",
   "name": "python",
   "nbconvert_exporter": "python",
   "pygments_lexer": "ipython3",
   "version": "3.7.4"
  }
 },
 "nbformat": 4,
 "nbformat_minor": 2
}

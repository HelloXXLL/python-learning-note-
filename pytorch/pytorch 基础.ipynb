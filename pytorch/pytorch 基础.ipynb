{
 "cells": [
  {
   "cell_type": "code",
   "execution_count": 2,
   "metadata": {},
   "outputs": [
    {
     "name": "stdout",
     "output_type": "stream",
     "text": [
      "tensor([[2.6728e+23, 8.5491e+20, 2.1414e+23],\n",
      "        [1.6800e-07, 1.0387e+21, 2.6193e+20]])\n",
      "tensor([2., 3., 4., 5.])\n"
     ]
    }
   ],
   "source": [
    "import torch \n",
    "a=torch.FloatTensor(2,3)\n",
    "b=torch.FloatTensor([2,3,4,5])\n",
    "print(a)\n",
    "print(b)"
   ]
  },
  {
   "cell_type": "code",
   "execution_count": 3,
   "metadata": {},
   "outputs": [
    {
     "name": "stdout",
     "output_type": "stream",
     "text": [
      "tensor([[1413494016,        494, 1394417816],\n",
      "        [       494,          0,          0]], dtype=torch.int32)\n",
      "tensor([2, 3, 4, 5], dtype=torch.int32)\n"
     ]
    }
   ],
   "source": [
    "a=torch.IntTensor(2,3)\n",
    "b=torch.IntTensor([2,3,4,5])\n",
    "print(a)\n",
    "print(b)"
   ]
  },
  {
   "cell_type": "code",
   "execution_count": 4,
   "metadata": {},
   "outputs": [
    {
     "name": "stdout",
     "output_type": "stream",
     "text": [
      "tensor([[0.2078, 0.7800, 0.8844],\n",
      "        [0.9591, 0.2227, 0.8226]])\n"
     ]
    }
   ],
   "source": [
    "a=torch.rand(2,3)#01之间\n",
    "print(a)"
   ]
  },
  {
   "cell_type": "code",
   "execution_count": 5,
   "metadata": {},
   "outputs": [
    {
     "name": "stdout",
     "output_type": "stream",
     "text": [
      "tensor([[ 0.3736, -0.0142, -1.2559],\n",
      "        [-0.5375, -0.5747, -0.8247]])\n"
     ]
    }
   ],
   "source": [
    "a=torch.randn(2,3)\n",
    "print(a)"
   ]
  },
  {
   "cell_type": "code",
   "execution_count": 7,
   "metadata": {},
   "outputs": [
    {
     "name": "stdout",
     "output_type": "stream",
     "text": [
      "tensor([ 1,  2,  3,  4,  5,  6,  7,  8,  9, 10, 11, 12, 13, 14, 15, 16, 17, 18,\n",
      "        19])\n"
     ]
    }
   ],
   "source": [
    "a=torch.arange(1,20,1)\n",
    "print(a)"
   ]
  },
  {
   "cell_type": "code",
   "execution_count": 8,
   "metadata": {},
   "outputs": [
    {
     "name": "stdout",
     "output_type": "stream",
     "text": [
      "tensor([[0., 0., 0.],\n",
      "        [0., 0., 0.]])\n"
     ]
    }
   ],
   "source": [
    "a=torch.zeros(2,3)\n",
    "print(a)"
   ]
  },
  {
   "cell_type": "code",
   "execution_count": 10,
   "metadata": {},
   "outputs": [
    {
     "name": "stdout",
     "output_type": "stream",
     "text": [
      "tensor([[-0.3563, -0.5440, -0.4415],\n",
      "        [-1.5780, -0.8036,  0.3688]])\n",
      "tensor([[0.3563, 0.5440, 0.4415],\n",
      "        [1.5780, 0.8036, 0.3688]])\n"
     ]
    }
   ],
   "source": [
    "a=torch.randn(2,3)\n",
    "print(a)\n",
    "b=torch.abs(a)\n",
    "print(b)"
   ]
  },
  {
   "cell_type": "code",
   "execution_count": 11,
   "metadata": {},
   "outputs": [
    {
     "name": "stdout",
     "output_type": "stream",
     "text": [
      "tensor([[-1.7642,  1.7510,  0.0584],\n",
      "        [ 0.1990, -0.4555,  0.7671]])\n",
      "tensor([[-1.4578, -0.2923,  1.4052],\n",
      "        [-0.2957,  0.1927, -0.8370]])\n",
      "tensor([[-3.2220,  1.4586,  1.4636],\n",
      "        [-0.0967, -0.2628, -0.0699]])\n",
      "tensor([[ 0.5175, -0.5988,  1.1828],\n",
      "        [ 1.8924, -0.3877,  1.5579]])\n",
      "tensor([[10.5175,  9.4012, 11.1828],\n",
      "        [11.8924,  9.6123, 11.5579]])\n"
     ]
    }
   ],
   "source": [
    "a=torch.randn(2,3)\n",
    "b=torch.randn(2,3)\n",
    "print(a)\n",
    "print(b)\n",
    "c=torch.add(a,b)\n",
    "print(c)\n",
    "d=torch.randn(2,3)\n",
    "print(d)\n",
    "e=torch.add(d,10)\n",
    "print(e)"
   ]
  },
  {
   "cell_type": "code",
   "execution_count": 12,
   "metadata": {},
   "outputs": [
    {
     "name": "stdout",
     "output_type": "stream",
     "text": [
      "tensor([[-1.7642,  1.7510,  0.0584],\n",
      "        [ 0.1990, -0.4555,  0.7671]])\n",
      "tensor([[-0.1000,  0.1000,  0.0584],\n",
      "        [ 0.1000, -0.1000,  0.1000]])\n"
     ]
    }
   ],
   "source": [
    "#torch.clamp实现剪裁\n",
    "#对应三个参数 变量 裁剪的上边界 裁剪的下边界\n",
    "print(a)\n",
    "b=torch.clamp(a,-0.1,0.1)\n",
    "print(b)"
   ]
  },
  {
   "cell_type": "code",
   "execution_count": 16,
   "metadata": {},
   "outputs": [
    {
     "name": "stdout",
     "output_type": "stream",
     "text": [
      "tensor([[-0.4351, -0.2045, -0.4725],\n",
      "        [ 0.3752,  0.6113, -1.1406]])\n",
      "tensor([[-0.4886,  1.3802, -1.3198],\n",
      "        [-0.5407, -0.3759,  0.6099]])\n",
      "tensor([[ 0.8905, -0.1481,  0.3580],\n",
      "        [-0.6938, -1.6263, -1.8702]])\n",
      "tensor([[-0.0435, -0.0204, -0.0473],\n",
      "        [ 0.0375,  0.0611, -0.1141]])\n"
     ]
    }
   ],
   "source": [
    "#torch.div \n",
    "a=torch.randn(2,3)\n",
    "print(a)\n",
    "b=torch.randn(2,3)\n",
    "print(b)\n",
    "c=torch.div(a,b)\n",
    "d=torch.div(a,10)\n",
    "print(c)\n",
    "print(d)"
   ]
  },
  {
   "cell_type": "code",
   "execution_count": 17,
   "metadata": {},
   "outputs": [
    {
     "name": "stdout",
     "output_type": "stream",
     "text": [
      "tensor([[-0.5555,  0.3055, -0.2937],\n",
      "        [ 0.3728,  0.3885, -1.1094]])\n",
      "tensor([[-1.4202,  0.5078, -0.8459],\n",
      "        [ 1.2372, -0.1607, -0.8424]])\n",
      "tensor([[ 0.7890,  0.1551,  0.2484],\n",
      "        [ 0.4613, -0.0624,  0.9346]])\n",
      "tensor([[-0.9341,  1.5351,  1.0407],\n",
      "        [-0.5631,  1.5236, -0.2063]])\n",
      "tensor([[-9.3407, 15.3514, 10.4074],\n",
      "        [-5.6309, 15.2365, -2.0627]])\n"
     ]
    }
   ],
   "source": [
    "a=torch.randn(2,3)\n",
    "b=torch.randn(2,3)\n",
    "c=torch.mul(a,b)\n",
    "d=torch.randn(2,3)\n",
    "e=torch.mul(d,10)\n",
    "print(a)\n",
    "print(b)\n",
    "print(c)\n",
    "print(d)\n",
    "print(e)"
   ]
  },
  {
   "cell_type": "code",
   "execution_count": 19,
   "metadata": {},
   "outputs": [
    {
     "name": "stdout",
     "output_type": "stream",
     "text": [
      "tensor([[ 0.7890,  0.1551,  0.2484],\n",
      "        [ 0.4613, -0.0624,  0.9346]])\n",
      "tensor([[ -5.5553,   3.0551,  -2.9372],\n",
      "        [  3.7284,   3.8853, -11.0945]])\n"
     ]
    }
   ],
   "source": [
    "c=torch.mul(a,b)\n",
    "d=torch.mul(a,10)\n",
    "print(c)\n",
    "print(d)"
   ]
  },
  {
   "cell_type": "code",
   "execution_count": 20,
   "metadata": {},
   "outputs": [
    {
     "name": "stdout",
     "output_type": "stream",
     "text": [
      "tensor([[0.3086, 0.0933, 0.0863],\n",
      "        [0.1390, 0.1510, 1.2309]])\n",
      "tensor([[-0.1714,  0.0285, -0.0253],\n",
      "        [ 0.0518,  0.0587, -1.3656]])\n"
     ]
    }
   ],
   "source": [
    "b=torch.pow(a,2)\n",
    "d=torch.pow(a,3)\n",
    "print(b)\n",
    "print(d)"
   ]
  },
  {
   "cell_type": "code",
   "execution_count": 21,
   "metadata": {},
   "outputs": [
    {
     "name": "stdout",
     "output_type": "stream",
     "text": [
      "tensor([[ 0.3433,  0.0637, -0.7685],\n",
      "        [ 0.2135,  0.0627,  1.6115]])\n",
      "tensor([[-0.5995,  0.0461],\n",
      "        [ 1.1289,  0.0201],\n",
      "        [-0.6063,  0.0703]])\n",
      "tensor([[ 0.3321, -0.0369],\n",
      "        [-1.0344,  0.1243]])\n"
     ]
    }
   ],
   "source": [
    "#这次是矩阵乘法上次是直接乘\n",
    "a=torch.randn(2,3)\n",
    "b=torch.randn(3,2)\n",
    "c=torch.mm(a,b)\n",
    "print(a)\n",
    "print(b)\n",
    "print(c)"
   ]
  },
  {
   "cell_type": "code",
   "execution_count": 22,
   "metadata": {},
   "outputs": [
    {
     "name": "stdout",
     "output_type": "stream",
     "text": [
      "tensor([[ 1.1373, -0.1533, -0.8565],\n",
      "        [ 0.9704,  0.1244,  0.7444]])\n",
      "tensor([1.0042, 0.4753, 1.7861])\n",
      "tensor([-0.4607,  2.3632])\n"
     ]
    }
   ],
   "source": [
    "#torch.mv 矩阵乘向量\n",
    "a=torch.randn(2,3)\n",
    "b=torch.randn(3)\n",
    "print(a)\n",
    "print(b)\n",
    "c=torch.mv(a,b)\n",
    "print(c)"
   ]
  },
  {
   "cell_type": "code",
   "execution_count": null,
   "metadata": {},
   "outputs": [],
   "source": []
  }
 ],
 "metadata": {
  "kernelspec": {
   "display_name": "Python [conda env:root] *",
   "language": "python",
   "name": "conda-root-py"
  },
  "language_info": {
   "codemirror_mode": {
    "name": "ipython",
    "version": 3
   },
   "file_extension": ".py",
   "mimetype": "text/x-python",
   "name": "python",
   "nbconvert_exporter": "python",
   "pygments_lexer": "ipython3",
   "version": "3.7.4"
  }
 },
 "nbformat": 4,
 "nbformat_minor": 2
}
